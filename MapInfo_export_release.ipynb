{
 "cells": [
  {
   "cell_type": "code",
   "execution_count": 2,
   "id": "ed445cac-fc52-4371-ac52-4893c880864b",
   "metadata": {},
   "outputs": [],
   "source": [
    "string = '''\n",
    "Map From Layer1,Layer_2, La yer3\n",
    "'''"
   ]
  },
  {
   "cell_type": "code",
   "execution_count": 3,
   "id": "cdaa5bd4-fd58-401f-8693-3b7963585809",
   "metadata": {},
   "outputs": [],
   "source": [
    "string_cleaned = (string\n",
    "                  .replace('\\n', '')\n",
    "                  .replace(' ', '')\n",
    "                  .replace(')', '')\n",
    "                  .replace('(', '')\n",
    "                  .replace('\\\"', '')\n",
    "                 )"
   ]
  },
  {
   "cell_type": "code",
   "execution_count": 4,
   "id": "6f655e43-543c-42f8-88cc-c527940de64f",
   "metadata": {},
   "outputs": [
    {
     "name": "stdout",
     "output_type": "stream",
     "text": [
      "0 MapFromLayer1\n",
      "1 Layer_2\n",
      "2 Layer3\n"
     ]
    }
   ],
   "source": [
    "objects = string_cleaned.split(',')\n",
    "\n",
    "for i, j in enumerate(objects):\n",
    "    print(i, j)"
   ]
  },
  {
   "cell_type": "code",
   "execution_count": 5,
   "id": "06f10e29-d84e-4e6b-abe2-9a6157a72619",
   "metadata": {},
   "outputs": [
    {
     "name": "stdout",
     "output_type": "stream",
     "text": [
      "Layer_2\n",
      "Layer3\n"
     ]
    }
   ],
   "source": [
    "objects_cleaned = []\n",
    "indexes_to_remove = [0]\n",
    "\n",
    "for i, j in enumerate(objects):\n",
    "    if i in indexes_to_remove:\n",
    "        continue\n",
    "    else:\n",
    "        objects_cleaned.append(j)\n",
    "        print(j)"
   ]
  },
  {
   "cell_type": "code",
   "execution_count": null,
   "id": "a1826654-5714-410b-b9f1-95a6e13f25a2",
   "metadata": {},
   "outputs": [],
   "source": [
    "with open('script.txt', 'w', encoding='cp1251') as file:\n",
    "    for object in objects_cleaned:\n",
    "        code = f'''\n",
    "Alter Table \"{object}\" ( add layer_name Char(50) ) Interactive\n",
    "Update {object} Set layer_name = \"{object}\"\n",
    "Add Map Auto Layer {object}\n",
    "Select * from {object}\n",
    "Set Target On\n",
    "Select * from City_Border\n",
    "Objects Intersect Into Target Concurrency All Data layer_name=layer_name\n",
    "Select * from {object}\n",
    "Set Target On\n",
    "Select * from main\n",
    "Objects Erase Into Target Concurrency All Data layer_name=layer_name\n",
    "Select * from {object}\n",
    "Insert Into main ( COL1) Select layer_name From {object}\n",
    "rollback Table {object}\n",
    "commit Table main\n",
    "        '''\n",
    "        file.write(code + '\\n')"
   ]
  },
  {
   "cell_type": "code",
   "execution_count": null,
   "id": "6d5b51e0",
   "metadata": {},
   "outputs": [],
   "source": [
    "data = pd.read_csv(r\"Z:\\Attributes.csv\", sep=\";\", header=0)\n",
    "data"
   ]
  },
  {
   "cell_type": "markdown",
   "id": "f457e463",
   "metadata": {},
   "source": [
    "#### CREATE FIELDS"
   ]
  },
  {
   "cell_type": "code",
   "execution_count": null,
   "id": "e0f9372b",
   "metadata": {},
   "outputs": [],
   "source": [
    "with open('create_fields.txt', 'w', encoding='cp1251') as file:\n",
    "    for object in data['field_1']:\n",
    "        code = f'''\n",
    "Alter Table \"{object}\" ( add field_1 Char(100) ) Interactive\n",
    "Alter Table \"{object}\" ( add field_2 Float ) Interactive\n",
    "Alter Table \"{object}\" ( add field_3 Char(254) ) Interactive\n",
    "Alter Table \"{object}\" ( add field_4 Char(254) ) Interactive\n",
    "Alter Table \"{object}\" ( add field_5 Char(50) ) Interactive\n",
    "Alter Table \"{object}\" ( add field_6 Char(254) ) Interactive\n",
    "        '''\n",
    "        file.write(code + '\\n')"
   ]
  },
  {
   "cell_type": "code",
   "execution_count": null,
   "id": "738da397",
   "metadata": {},
   "outputs": [],
   "source": [
    "with open('func2.txt', 'w', encoding='cp1251') as file:\n",
    "    for index, row in data.iterrows():\n",
    "        code = f'''\n",
    "select * from {row['field_1']}\n",
    "update selection set field_1 = \"{row['field_1']}\"\n",
    "update selection set field_2 = \"{row['field_2']}\"\n",
    "update selection set field_3 = \"{row['field_3']}\"\n",
    "update selection set field_4 = \"{row['field_4']}\"\n",
    "update selection set field_5 = \"{row['field_5']}\"\n",
    "update selection set field_6 = \"{row['field_6']}\"\n",
    "        '''\n",
    "        file.write(code)"
   ]
  },
  {
   "cell_type": "markdown",
   "id": "fa540592",
   "metadata": {},
   "source": [
    "#### DROP FIELDS"
   ]
  },
  {
   "cell_type": "code",
   "execution_count": null,
   "id": "cecda075",
   "metadata": {},
   "outputs": [],
   "source": [
    "with open('drop_fields.txt', 'w', encoding='cp1251') as file:\n",
    "    for object in objects_cleaned:\n",
    "        code = f'''\n",
    "Alter Table \"{object}\" ( drop layer_name ) Interactive\n",
    "Alter Table \"{object}\" ( drop layer_name2 ) Interactive\n",
    "        '''\n",
    "        file.write(code + '\\n')"
   ]
  },
  {
   "cell_type": "markdown",
   "id": "b5e1e661",
   "metadata": {},
   "source": [
    "#### SPLIT MAIN"
   ]
  },
  {
   "cell_type": "code",
   "execution_count": null,
   "id": "7fe457ad",
   "metadata": {},
   "outputs": [],
   "source": [
    "with open('split_main.txt', 'w', encoding='cp1251') as file:\n",
    "    for object in objects_cleaned:\n",
    "        code = fr'''\n",
    "Create Table \"{object}\" (layer_name Char(50),class Char(50),layer_name2 Char(100)) file \"C:\\{object}.TAB\" TYPE NATIVE Charset \"WindowsCyrillic\"\n",
    "Create Map For {object} CoordSys NonEarth Units \"m\" Bounds (-1000000, -1000000) (1000000, 1000000)\n",
    "Select * from main where layer_name = \"{object}\"\n",
    "Insert Into {object} ( COL1, COL2, COL3) Select COL1, COL2, COL3 From Selection\n",
    "Commit Table {object}\n",
    "                '''\n",
    "        file.write(code + '\\n')"
   ]
  }
 ],
 "metadata": {
  "kernelspec": {
   "display_name": "Python 3",
   "language": "python",
   "name": "python3"
  },
  "language_info": {
   "codemirror_mode": {
    "name": "ipython",
    "version": 3
   },
   "file_extension": ".py",
   "mimetype": "text/x-python",
   "name": "python",
   "nbconvert_exporter": "python",
   "pygments_lexer": "ipython3",
   "version": "3.12.4"
  }
 },
 "nbformat": 4,
 "nbformat_minor": 5
}
